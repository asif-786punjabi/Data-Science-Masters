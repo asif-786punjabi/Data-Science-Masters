{
 "cells": [
  {
   "cell_type": "code",
   "execution_count": 1,
   "id": "4f90e6ab-eb9b-4661-8c32-512fa2ace607",
   "metadata": {},
   "outputs": [],
   "source": [
    "# Assignment of 05.02.2023"
   ]
  },
  {
   "cell_type": "markdown",
   "id": "4ebaaaf8-723d-4014-8f81-a016d52bce42",
   "metadata": {},
   "source": [
    "Q1. Explain Class and Object with respect to Object-Oriented Programming. Give a suitable example."
   ]
  },
  {
   "cell_type": "markdown",
   "id": "63b94d2e-e8e8-4cf0-964b-1160eda49e68",
   "metadata": {},
   "source": [
    "A class is a user-defined blueprint or prototype from which objects are created. Classes provide a means of bundling data and functionality together.allowing new instances of that type to be made\n"
   ]
  },
  {
   "cell_type": "markdown",
   "id": "9da9d7bd-ba4c-468a-bba5-c220e6c16a5d",
   "metadata": {},
   "source": [
    "When an object of a class is created, the class is said to be instantiated. All the instances share the attributes and the behavior of the class. But the values of those attributes"
   ]
  },
  {
   "cell_type": "code",
   "execution_count": 7,
   "id": "9c0b6f96-7e51-4428-aa7c-1e47e6fbb5c4",
   "metadata": {},
   "outputs": [
    {
     "name": "stdout",
     "output_type": "stream",
     "text": [
      "dog\n",
      "I am an animal\n",
      "I am a dog dog\n"
     ]
    }
   ],
   "source": [
    "class Dog:\n",
    "\n",
    "\tattr1 = \"animal\"\n",
    "\tattr2 = \"dog\"\n",
    "\n",
    "\tdef fun(self):\n",
    "\t\tprint(\"I am an\", self.attr1)\n",
    "\t\tprint(\"I am a dog\", self.attr2)\n",
    "\n",
    "\n",
    "obj = Dog()\n",
    "\n",
    "print(obj.attr2)\n",
    "obj.fun()\n"
   ]
  },
  {
   "cell_type": "markdown",
   "id": "6197a2c0-569e-41e7-9396-e8d4feb81a87",
   "metadata": {},
   "source": [
    "Q2. Name the four pillars of OOPs."
   ]
  },
  {
   "cell_type": "markdown",
   "id": "aae750e6-8e04-43ab-8460-92ca9d7d97ab",
   "metadata": {},
   "source": [
    "Encapsulation"
   ]
  },
  {
   "cell_type": "markdown",
   "id": "d7f1223b-724a-4a90-a725-6ed7827ca2c1",
   "metadata": {},
   "source": [
    "Inheritance"
   ]
  },
  {
   "cell_type": "markdown",
   "id": "15ce4061-31d7-4a86-9ba2-eef98b7bb90d",
   "metadata": {},
   "source": [
    "Polymorphism"
   ]
  },
  {
   "cell_type": "markdown",
   "id": "c29ba340-0c9e-461a-bfa0-d5d618ca1faa",
   "metadata": {},
   "source": [
    "Abstraction"
   ]
  },
  {
   "cell_type": "markdown",
   "id": "63b602a7-3988-4f7b-9337-235cb7bb3790",
   "metadata": {},
   "source": [
    "Q3. Explain why the __init__() function is used. Give a suitable example."
   ]
  },
  {
   "cell_type": "markdown",
   "id": "33390f3b-c464-4699-a7cb-a451651431dd",
   "metadata": {},
   "source": [
    "In Python, the __init__() function is a special method that is called when an object of a class is created it is also called constructor.__init__() it takes first argument self and __init__() is build in method in python"
   ]
  },
  {
   "cell_type": "code",
   "execution_count": 24,
   "id": "46d13c17-9f36-42a0-ba82-a98c711ade54",
   "metadata": {},
   "outputs": [
    {
     "name": "stdout",
     "output_type": "stream",
     "text": [
      "asif\n",
      "bca\n",
      "3\n"
     ]
    }
   ],
   "source": [
    "class Person:\n",
    "  def __init__(self, name, age):\n",
    "    self.nam = name\n",
    "    self.age = age\n",
    "\n",
    "p1=Person(\"asif\",23)\n",
    "p2=Person(\"bca\",3)\n",
    "print(p1.nam)\n",
    "print(p2.nam)\n",
    "print(p2.age)"
   ]
  },
  {
   "cell_type": "markdown",
   "id": "da1e07bc-bde2-460d-8563-18ad47b3de06",
   "metadata": {},
   "source": [
    "Q4. Why self is used in OOPs?"
   ]
  },
  {
   "cell_type": "markdown",
   "id": "259d20f3-3157-45a5-a98d-ef1678586267",
   "metadata": {},
   "source": [
    "The self parameter is a reference to the current instance of the class, and is used to access variables that belongs to the class.\n",
    "\n",
    "It does not have to be named self , you can call it whatever you like, but it has to be the first parameter of any function in the class:"
   ]
  },
  {
   "cell_type": "markdown",
   "id": "03079e06-cfcb-4129-9aa1-b41bece7cf42",
   "metadata": {},
   "source": [
    "Q5. What is inheritance? Give an example for each type of inheritance"
   ]
  },
  {
   "cell_type": "markdown",
   "id": "dfc04920-8f16-4ee4-90a3-2bd754921053",
   "metadata": {},
   "source": [
    "Inheritance is a mechanism in which one class acquires the property of another class."
   ]
  },
  {
   "cell_type": "markdown",
   "id": "15dcaff7-73fd-4df7-9cd1-b28246f09a2c",
   "metadata": {},
   "source": [
    "four types of inheritance in python."
   ]
  },
  {
   "cell_type": "markdown",
   "id": "e6b1c0eb-f976-4bcc-a09f-6f2c25d16d9d",
   "metadata": {},
   "source": [
    "1.Single Inheritance\n",
    "2.Multiple Inheritance\n",
    "3.Multilevel Inheritance\n",
    "4.Hierarchical Inheritance"
   ]
  },
  {
   "cell_type": "code",
   "execution_count": 25,
   "id": "8b26c165-b75a-4dbd-995c-2066fd75452a",
   "metadata": {},
   "outputs": [
    {
     "name": "stdout",
     "output_type": "stream",
     "text": [
      "This function of parent class.\n",
      "This function is in child class.\n"
     ]
    }
   ],
   "source": [
    "                             #single inheritance\n",
    "\n",
    "# Base class\n",
    "class Parent:\n",
    "\tdef func1(self):\n",
    "\t\tprint(\"This function of parent class.\")\n",
    "\n",
    "# Derived class\n",
    "\n",
    "\n",
    "class Child(Parent):\n",
    "\tdef func2(self):\n",
    "\t\tprint(\"This function is in child class.\")\n",
    "\n",
    "\n",
    "# Driver's code\n",
    "obj= Child()\n",
    "obj.func1()\n",
    "obj.func2()\n"
   ]
  },
  {
   "cell_type": "code",
   "execution_count": 38,
   "id": "3709d666-d647-4564-b456-311b71b59a32",
   "metadata": {},
   "outputs": [
    {
     "name": "stdout",
     "output_type": "stream",
     "text": [
      "father : Asif\n",
      "mother : shabanam\n"
     ]
    }
   ],
   "source": [
    "                                  # multiple inheritance\n",
    "#base class 1\n",
    "class Mother:\n",
    "    mothername=\"\"\n",
    "    def mother(self):\n",
    "        print(self.mothername)\n",
    "\n",
    "#base callas 2\n",
    "class Father:\n",
    "    fathername=\"\"\n",
    "    def father(self):\n",
    "        print(self.fathername)\n",
    " # child class\n",
    "class Son(Mother,Father):\n",
    "    def parents(self):\n",
    "        print(\"father :\",self.fathername)\n",
    "        print(\"mother :\",self.mothername)\n",
    "s1=Son()\n",
    "s1.fathername=\"Asif\"\n",
    "s1.mothername=\"shabanam\"\n",
    "s1.parents()"
   ]
  },
  {
   "cell_type": "code",
   "execution_count": 45,
   "id": "5be2b6e6-0ebd-47d4-9566-9ba436419e06",
   "metadata": {},
   "outputs": [
    {
     "name": "stdout",
     "output_type": "stream",
     "text": [
      "DADA ji\n",
      "Grandfather name : DADA ji\n",
      "Father name : rahees\n",
      "Son name : Asif\n"
     ]
    }
   ],
   "source": [
    "                                 #multilevel inheritance\n",
    "# Base class 1\n",
    "\n",
    "class Grandfather:\n",
    "\n",
    "\tdef __init__(self, grandfathername):\n",
    "\t\tself.grandfathername = grandfathername\n",
    "\n",
    "# base class 2\n",
    "\n",
    "\n",
    "class Father(Grandfather):\n",
    "\tdef __init__(self, fathername, grandfathername):\n",
    "\t\tself.fathername = fathername\n",
    "\n",
    "\t\t# invoking constructor of Grandfather class\n",
    "\t\tGrandfather.__init__(self, grandfathername)\n",
    "\n",
    "# child class \n",
    "\n",
    "class Son(Father):\n",
    "\tdef __init__(self, sonname, fathername, grandfathername):\n",
    "\t\tself.sonname = sonname\n",
    "\n",
    "\t\t# invoking constructor of Father class\n",
    "\t\tFather.__init__(self, fathername, grandfathername)\n",
    "\n",
    "\tdef print_name(self):\n",
    "\t\tprint('Grandfather name :', self.grandfathername)\n",
    "\t\tprint(\"Father name :\", self.fathername)\n",
    "\t\tprint(\"Son name :\", self.sonname)\n",
    "\n",
    "\n",
    "# Driver code\n",
    "s1 = Son('Asif', 'rahees', 'DADA ji')\n",
    "print(s1.grandfathername)\n",
    "s1.print_name()\n"
   ]
  },
  {
   "cell_type": "code",
   "execution_count": null,
   "id": "2d2293fa-b974-4bc3-90aa-a2918683150b",
   "metadata": {},
   "outputs": [],
   "source": [
    "                                # Hierarchical inheritance\n",
    "\n",
    "\n",
    "# Base class 1\n",
    "class Parent:\n",
    "\tdef func1(self):\n",
    "\t\tprint(\"This function is in parent class.\")\n",
    "\n",
    "# Derived class1\n",
    "\n",
    "class Child1(Parent):\n",
    "\tdef func2(self):\n",
    "\t\tprint(\"This function is in child 1.\")\n",
    "\n",
    "# Derivied class2\n",
    "\n",
    "class Child2(Parent):\n",
    "\tdef func3(self):\n",
    "\t\tprint(\"This function is in child 2.\")\n",
    "\n",
    "\n",
    "# Driver's code\n",
    "obj = Child1()\n",
    "obj = Child2()\n",
    "obj.func1()\n",
    "object1.func2()\n",
    "object2.func1()\n",
    "object2.func3()\n"
   ]
  }
 ],
 "metadata": {
  "kernelspec": {
   "display_name": "Python 3 (ipykernel)",
   "language": "python",
   "name": "python3"
  },
  "language_info": {
   "codemirror_mode": {
    "name": "ipython",
    "version": 3
   },
   "file_extension": ".py",
   "mimetype": "text/x-python",
   "name": "python",
   "nbconvert_exporter": "python",
   "pygments_lexer": "ipython3",
   "version": "3.10.6"
  }
 },
 "nbformat": 4,
 "nbformat_minor": 5
}
