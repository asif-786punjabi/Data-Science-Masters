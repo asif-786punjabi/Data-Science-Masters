{
 "cells": [
  {
   "cell_type": "raw",
   "id": "424a3cad-1b5f-4e4f-b337-ed968f7132b9",
   "metadata": {},
   "source": [
    "                assignment of 03 feb 2023"
   ]
  },
  {
   "cell_type": "markdown",
   "id": "c489d47c-1546-4566-9e91-ec709b0867d5",
   "metadata": {},
   "source": [
    "Q1. Which keyword is used to create a function? Create a function to return a list of odd numbers in the\n",
    "range of 1 to 25."
   ]
  },
  {
   "cell_type": "markdown",
   "id": "a9f43c0c-70eb-44f2-bb72-abe4f87f69c4",
   "metadata": {},
   "source": [
    "def keyword is used to create a function "
   ]
  },
  {
   "cell_type": "code",
   "execution_count": 21,
   "id": "a2c72275-5b4f-4088-b2de-60ba1404eb53",
   "metadata": {},
   "outputs": [],
   "source": [
    "def get_odd():\n",
    "    odd=[]\n",
    "    for i in range(1,26):\n",
    "        if i%2 !=0:\n",
    "            odd.append(i)\n",
    "    return odd"
   ]
  },
  {
   "cell_type": "code",
   "execution_count": 22,
   "id": "77027c9c-66b5-4f8c-8448-a8547ade5298",
   "metadata": {},
   "outputs": [
    {
     "data": {
      "text/plain": [
       "[1, 3, 5, 7, 9, 11, 13, 15, 17, 19, 21, 23, 25]"
      ]
     },
     "execution_count": 22,
     "metadata": {},
     "output_type": "execute_result"
    }
   ],
   "source": [
    "get_odd()"
   ]
  },
  {
   "cell_type": "markdown",
   "id": "996aceef-4adb-48f8-8a36-e5d900d29409",
   "metadata": {},
   "source": [
    "Q2. Why *args and **kwargs is used in some functions? Create a function each for *args and **kwargs to\n",
    "demonstrate their use"
   ]
  },
  {
   "cell_type": "markdown",
   "id": "84bd2bf5-ee15-4a8a-a32c-59266cdc43ae",
   "metadata": {},
   "source": [
    "  *args and **kwargs are special keyword which allows function to take variable length argument.  \n",
    "if we are not sure about the number of arguments that can be passed to a function. Python has *args which allow us to pass the variable number of non keyword arguments to function."
   ]
  },
  {
   "cell_type": "code",
   "execution_count": 3,
   "id": "ba5aed49-ff90-4d2b-8e20-6402524e2ed3",
   "metadata": {},
   "outputs": [],
   "source": [
    "def test(*args):        #*args example\n",
    "    result=0\n",
    "    for i in args:\n",
    "        result +=i\n",
    "    return result\n"
   ]
  },
  {
   "cell_type": "code",
   "execution_count": 7,
   "id": "20e99509-57e8-413e-81a2-01c0a8edeef1",
   "metadata": {},
   "outputs": [
    {
     "data": {
      "text/plain": [
       "6"
      ]
     },
     "execution_count": 7,
     "metadata": {},
     "output_type": "execute_result"
    }
   ],
   "source": [
    "test(3,3)"
   ]
  },
  {
   "cell_type": "code",
   "execution_count": 10,
   "id": "2c1a0453-9e8c-48a1-b583-5e74922b81ba",
   "metadata": {},
   "outputs": [
    {
     "data": {
      "text/plain": [
       "72"
      ]
     },
     "execution_count": 10,
     "metadata": {},
     "output_type": "execute_result"
    }
   ],
   "source": [
    "test(3,65,4)\n"
   ]
  },
  {
   "cell_type": "code",
   "execution_count": 15,
   "id": "9b9d033e-0691-4cdf-b601-bf72080fac5d",
   "metadata": {},
   "outputs": [
    {
     "data": {
      "text/plain": [
       "21.7"
      ]
     },
     "execution_count": 15,
     "metadata": {},
     "output_type": "execute_result"
    }
   ],
   "source": [
    "test(3,4,3,6.7,5)"
   ]
  },
  {
   "cell_type": "raw",
   "id": "03aa5522-d2df-424a-830d-676c7ec65a9f",
   "metadata": {},
   "source": [
    "            #**kwargs\n",
    " When a function is defined with **kwargs as one of its parameters, it means that the function can accept any number of keyword arguments, which are passed in as a dictionary. The ** operator is used to unpack the dictionary, so that the keys become argument names and the values become the argument values."
   ]
  },
  {
   "cell_type": "code",
   "execution_count": 23,
   "id": "9d721074-dec7-4f4f-a0a4-afb691f0b9f3",
   "metadata": {},
   "outputs": [],
   "source": [
    "def test2(**args):\n",
    "    return args"
   ]
  },
  {
   "cell_type": "code",
   "execution_count": 27,
   "id": "5efed948-c6ba-4cb3-8cca-5961619fa11a",
   "metadata": {},
   "outputs": [
    {
     "data": {
      "text/plain": [
       "{'a': 3, 'b': 3, 'd': {'ansari', 'asif'}, 'c': ('asif', 'punjabi')}"
      ]
     },
     "execution_count": 27,
     "metadata": {},
     "output_type": "execute_result"
    }
   ],
   "source": [
    "test2(a=3,b=3,d={\"asif\",\"ansari\"},c=('asif','punjabi'))"
   ]
  },
  {
   "cell_type": "markdown",
   "id": "242e6c38-a1d2-43ba-b568-57663abc853a",
   "metadata": {},
   "source": [
    "Q3.  What is an iterator in python? Name the method used to initialise the iterator object and the method\n",
    "used for iteration. Use these methods to print the first five elements of the given list \n",
    "[2, 4, 6, 8, 10, 12, 14, 16,18, 20]."
   ]
  },
  {
   "cell_type": "markdown",
   "id": "a2470da0-2dd8-4900-972f-3e63ecfbf667",
   "metadata": {},
   "source": [
    " An iterator in Python is an object that enables looping over a collection of elements. It is used to retrieve values from a sequence or container, such as a list, tuple, or dictionary, one at a time\n",
    " \n",
    " The method used to initialize the iterator object is __iter__(), and the method used for iteration is __next__()"
   ]
  },
  {
   "cell_type": "code",
   "execution_count": 6,
   "id": "9dd17eb4-6bfa-4e48-acbc-589817b7fb29",
   "metadata": {},
   "outputs": [
    {
     "name": "stdout",
     "output_type": "stream",
     "text": [
      "2\n",
      "4\n",
      "6\n",
      "8\n",
      "10\n"
     ]
    }
   ],
   "source": [
    "my_list = [2, 4, 6, 8, 10, 12, 14, 16, 18, 20]\n",
    "\n",
    "class MyIterator:\n",
    "    def __init__(self, data):\n",
    "        self.index = 0\n",
    "        self.data = data\n",
    "\n",
    "    def __iter__(self):\n",
    "        return self\n",
    "\n",
    "    def __next__(self):\n",
    "        if self.index >= 5:        # Stop iteration after 5 elements\n",
    "            raise StopIteration\n",
    "        result = self.data[self.index]\n",
    "        self.index += 1\n",
    "        return result\n",
    "\n",
    "my_iterator = MyIterator(my_list)\n",
    "\n",
    "for i in my_iterator:\n",
    "    print(i)"
   ]
  },
  {
   "cell_type": "markdown",
   "id": "16e8aa13-cffa-42ca-966b-ac438a7f6ecb",
   "metadata": {},
   "source": [
    "Q4.  What is a generator function in python? Why yield keyword is used? Give an example of a generator\n",
    "function.\n"
   ]
  },
  {
   "cell_type": "markdown",
   "id": "51b7d5a8-173e-4d4e-820a-37fb14c90613",
   "metadata": {},
   "source": [
    "A generator function in Python is a special kind of function that can be used to create an iterator. It is defined like a regular function but instead of returning a value"
   ]
  },
  {
   "cell_type": "markdown",
   "id": "0b00a667-14c8-46a9-a222-770cb2d1dede",
   "metadata": {},
   "source": [
    "The yield keyword is used in a generator function to produce a value and temporarily suspend execution. When a generator function encounters the yield keyword"
   ]
  },
  {
   "cell_type": "code",
   "execution_count": 13,
   "id": "5ad3bc08-f32c-4455-9e78-b58eb6082dc7",
   "metadata": {},
   "outputs": [
    {
     "name": "stdout",
     "output_type": "stream",
     "text": [
      "0\n",
      "2\n",
      "4\n",
      "6\n",
      "8\n",
      "10\n",
      "12\n",
      "14\n",
      "16\n",
      "18\n"
     ]
    }
   ],
   "source": [
    "def even_number(n):\n",
    "    for i in range(n):\n",
    "        if i % 2 == 0:\n",
    "            yield i\n",
    "            \n",
    "\n",
    "even_generator = even_number(20)\n",
    "\n",
    "for i in even_generator:\n",
    "    print(i) "
   ]
  },
  {
   "cell_type": "markdown",
   "id": "850cbd17-bfc0-4858-bdd2-e909585e6dd6",
   "metadata": {},
   "source": [
    "Q5. Create a generator function for prime numbers less than 1000. Use the next() method to print the\n",
    "first 20 prime numbers."
   ]
  },
  {
   "cell_type": "code",
   "execution_count": 14,
   "id": "37e7eab2-c75d-478c-93ee-68c3ac44e2c3",
   "metadata": {},
   "outputs": [
    {
     "name": "stdout",
     "output_type": "stream",
     "text": [
      "2\n",
      "3\n",
      "5\n",
      "7\n",
      "11\n",
      "13\n",
      "17\n",
      "19\n",
      "23\n",
      "29\n",
      "31\n",
      "37\n",
      "41\n",
      "43\n",
      "47\n",
      "53\n",
      "59\n",
      "61\n",
      "67\n",
      "71\n"
     ]
    }
   ],
   "source": [
    "def generate_primes():\n",
    "    num = 2\n",
    "    primes = []\n",
    "    while num < 1000:\n",
    "        is_prime = True\n",
    "        for prime in primes:\n",
    "            if num % prime == 0:\n",
    "                is_prime = False\n",
    "                break\n",
    "        if is_prime:\n",
    "            primes.append(num)\n",
    "            yield num\n",
    "        num += 1\n",
    "prime_generator = generate_primes()\n",
    "\n",
    "for i in range(20):\n",
    "    print(next(prime_generator))\n"
   ]
  },
  {
   "cell_type": "code",
   "execution_count": null,
   "id": "3f4326ee-3b68-4759-865f-64a95c819986",
   "metadata": {},
   "outputs": [],
   "source": []
  }
 ],
 "metadata": {
  "kernelspec": {
   "display_name": "Python 3 (ipykernel)",
   "language": "python",
   "name": "python3"
  },
  "language_info": {
   "codemirror_mode": {
    "name": "ipython",
    "version": 3
   },
   "file_extension": ".py",
   "mimetype": "text/x-python",
   "name": "python",
   "nbconvert_exporter": "python",
   "pygments_lexer": "ipython3",
   "version": "3.10.6"
  }
 },
 "nbformat": 4,
 "nbformat_minor": 5
}
