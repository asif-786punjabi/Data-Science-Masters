{
 "cells": [
  {
   "cell_type": "markdown",
   "id": "02e8935f-f9f6-4fa4-85db-6e48062e47a7",
   "metadata": {},
   "source": [
    "                 29th jan first assignement "
   ]
  },
  {
   "cell_type": "markdown",
   "id": "a26a1c5f-9242-447e-a53c-3e927e0c6440",
   "metadata": {},
   "source": [
    "Q1. Who developed python programming language?"
   ]
  },
  {
   "cell_type": "markdown",
   "id": "8fe6a5d1-874c-4e4f-8ae4-5dae7e1b3728",
   "metadata": {},
   "source": [
    "In February 1991, Guido Van Rossum developed python programing \n",
    "language."
   ]
  },
  {
   "cell_type": "markdown",
   "id": "67700e07-9213-4176-ba8b-39f7da33f644",
   "metadata": {},
   "source": [
    "Q2. which type of programing does python support ?"
   ]
  },
  {
   "cell_type": "markdown",
   "id": "1bf27e5a-5a8c-457f-a7bd-08cc0c3a5e56",
   "metadata": {},
   "source": [
    "Python is a multi-paradigm programming language. Object-oriented programming and structured programming are fully supported. "
   ]
  },
  {
   "cell_type": "markdown",
   "id": "69060ba5-1442-4eb5-b958-a120941a27f8",
   "metadata": {},
   "source": [
    "Q3. is python case sensitive when dealing with identifiers ?"
   ]
  },
  {
   "cell_type": "markdown",
   "id": "e6275ac8-fd35-4aae-a8c2-7a381cfa11e1",
   "metadata": {},
   "source": [
    "Yes, Python is a case-sensitive language i.e if we have declear uppercase \n",
    "or lowecase identifiers so these are deffrent identifiers."
   ]
  },
  {
   "cell_type": "markdown",
   "id": "7a6606bf-4e0d-44ec-8b2c-a0987fb18256",
   "metadata": {},
   "source": [
    "Q4. what is the correct extension of the python file ?"
   ]
  },
  {
   "cell_type": "markdown",
   "id": "3522ceb6-fa0b-4be5-8999-a0ba53f7e313",
   "metadata": {},
   "source": [
    "\".py\" is the correct extension of the python file"
   ]
  },
  {
   "cell_type": "markdown",
   "id": "63f81502-a3a8-4d7d-8d99-6c5116fb2e9b",
   "metadata": {},
   "source": [
    "Q5. is python code compiled or interpreted ?"
   ]
  },
  {
   "cell_type": "markdown",
   "id": "f4349cc9-c57e-4f93-9729-825dc74ce291",
   "metadata": {},
   "source": [
    "Python is an interpreted language."
   ]
  },
  {
   "cell_type": "markdown",
   "id": "2fe3d0a7-e8aa-45ee-89c3-f02043153777",
   "metadata": {},
   "source": [
    "Q6. Name a few blocks of code used to define in python language ?"
   ]
  },
  {
   "cell_type": "markdown",
   "id": "f8707a81-ea45-45c0-8a36-c576a740bc95",
   "metadata": {},
   "source": [
    "#indentation "
   ]
  },
  {
   "cell_type": "code",
   "execution_count": 2,
   "id": "5d86506d-05c2-4ffd-9146-cb5f34c67a3a",
   "metadata": {},
   "outputs": [],
   "source": [
    "def my_function(asif, punjabi):\n",
    "    if asif> punjabi:\n",
    "        return asif\n",
    "    else:\n",
    "        return punjabi"
   ]
  },
  {
   "cell_type": "markdown",
   "id": "b5333a68-a264-4263-8bbe-0c2911bc1787",
   "metadata": {},
   "source": [
    "Q7. State a character used to give a single-line comments in python ?"
   ]
  },
  {
   "cell_type": "markdown",
   "id": "d8211b23-58d6-44da-b592-1beeaed11a34",
   "metadata": {},
   "source": [
    "Hash character(#) is used to comment the single-line in the Python program."
   ]
  },
  {
   "cell_type": "markdown",
   "id": "928e9a87-9507-4d2c-8c05-6be909dc0b73",
   "metadata": {},
   "source": [
    "Q8. Mention functions which can help us to find the version of python \n",
    "    that we are currently working on ?"
   ]
  },
  {
   "cell_type": "markdown",
   "id": "c9dae47f-2986-4692-b2e8-2fad94db8931",
   "metadata": {},
   "source": [
    " Using sys.version method\n",
    " Using python_version() function\n",
    " Using Python -V command"
   ]
  },
  {
   "cell_type": "markdown",
   "id": "73e5dd1b-bce6-4e8d-b188-b1c883299f24",
   "metadata": {},
   "source": [
    "Q9. python supports the creation of anonymous functions at runtime,using construct called"
   ]
  },
  {
   "cell_type": "markdown",
   "id": "3f341739-73c3-44b6-b741-70141bb9a17e",
   "metadata": {},
   "source": [
    "using a construct called lambda."
   ]
  },
  {
   "cell_type": "markdown",
   "id": "81ac3a41-e785-4859-ac1e-8ffbf1d80e5d",
   "metadata": {},
   "source": [
    "Q10. what does pip stand for python ?"
   ]
  },
  {
   "cell_type": "markdown",
   "id": "ccef2d18-4ec9-4b44-bbc3-ecd55ccca3b2",
   "metadata": {},
   "source": [
    "PIP is the package manager for python. In other words, it is a tool that allows us to install the python packages and dependencies"
   ]
  },
  {
   "cell_type": "markdown",
   "id": "6a5e17bc-e38f-47da-8dd7-896fbbfc1f16",
   "metadata": {},
   "source": [
    "Q11. Mention a few build in  functions in python?"
   ]
  },
  {
   "cell_type": "markdown",
   "id": "3d6a8e42-532f-44cf-b34e-15b51aca4eab",
   "metadata": {},
   "source": [
    "abs()\tReturns the absolute value of a number\n",
    "all()\tReturns True if all items in an iterable object are true\n",
    "any()\tReturns True if any item in an iterable object is true\n",
    "ascii()\tReturns a readable version of an object. Replaces none-ascii characters         with escape character\n",
    "bin()\tReturns the binary version of a number\n",
    "bool()\tReturns the boolean value of the specified object\n",
    "bytearray()\tReturns an array of bytes\n",
    "bytes()\tReturns a bytes object"
   ]
  },
  {
   "cell_type": "markdown",
   "id": "39e48b43-460b-4783-9d58-c23e10795d18",
   "metadata": {},
   "source": [
    "Q12. what is the maximum possible length of identifer in the python"
   ]
  },
  {
   "cell_type": "markdown",
   "id": "a51a1604-7c25-4979-9d8d-05fc0339bae3",
   "metadata": {},
   "source": [
    "An identifier can have a maximum length of 79 characters in Python"
   ]
  },
  {
   "cell_type": "markdown",
   "id": "60df96f4-713e-46aa-8744-0b2dd7273241",
   "metadata": {},
   "source": [
    "Q13. what are the benefits of using python ?"
   ]
  },
  {
   "cell_type": "markdown",
   "id": "0bea16c4-43d3-447f-a5dc-1d3e761ffe31",
   "metadata": {},
   "source": [
    "a) Data science.\n",
    "b) Scientific and mathematical computing.\n",
    "c) Web development.\n",
    "d) Finance and trading.\n",
    "e) System automation and administration.\n",
    "f) Computer graphics.\n",
    "g) Basic game development.\n",
    "h) Security and penetration testing"
   ]
  },
  {
   "cell_type": "markdown",
   "id": "12b3e627-8bfd-4a15-90d0-be860d23a176",
   "metadata": {},
   "source": [
    "Q14. how is the mamory managed in python ?"
   ]
  },
  {
   "cell_type": "markdown",
   "id": "14fb0567-952a-420c-9096-b4634063f5f8",
   "metadata": {},
   "source": [
    "Memory management in Python involves a private heap containing all Python objects and data structures. The management of this private heap is ensured internally by the Python memory manager. "
   ]
  },
  {
   "cell_type": "markdown",
   "id": "e29cedd7-dcfc-42b3-9aff-8a9869b64ce0",
   "metadata": {},
   "source": [
    "Q15. how to install python on windows and set path variables ?"
   ]
  },
  {
   "cell_type": "markdown",
   "id": "5c9e2659-3b47-4f0e-a8fb-3172623b2682",
   "metadata": {},
   "source": [
    "Right click on My Computer ->Properties ->Advanced System setting ->Environment Variable ->New\n",
    "\n",
    "In Variable name write path and in Variable value copy path up to C://Python(i.e., path where Python is installed). Click Ok ->Ok."
   ]
  },
  {
   "cell_type": "markdown",
   "id": "3e074744-5df2-4a3e-8a33-0ce8484b0690",
   "metadata": {},
   "source": [
    "Q16. is identation required in python ?"
   ]
  },
  {
   "cell_type": "markdown",
   "id": "1cf1346e-c44e-462e-9e80-9902e76a9a86",
   "metadata": {},
   "source": [
    "Indentation refers to the spaces at the beginning of a code line.\n",
    "\n",
    "Where in other programming languages the indentation in code is for readability only, the indentation in Python is very important."
   ]
  }
 ],
 "metadata": {
  "kernelspec": {
   "display_name": "Python 3 (ipykernel)",
   "language": "python",
   "name": "python3"
  },
  "language_info": {
   "codemirror_mode": {
    "name": "ipython",
    "version": 3
   },
   "file_extension": ".py",
   "mimetype": "text/x-python",
   "name": "python",
   "nbconvert_exporter": "python",
   "pygments_lexer": "ipython3",
   "version": "3.10.8"
  },
  "toc-autonumbering": true,
  "toc-showcode": false,
  "toc-showmarkdowntxt": false
 },
 "nbformat": 4,
 "nbformat_minor": 5
}
