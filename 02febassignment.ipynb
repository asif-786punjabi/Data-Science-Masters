{
 "cells": [
  {
   "cell_type": "markdown",
   "id": "da7d7845-7938-496f-b8b1-6fb222f48f2f",
   "metadata": {},
   "source": [
    " # 02 feb assignment  "
   ]
  },
  {
   "cell_type": "markdown",
   "id": "b9b40e70-e920-4c92-a52c-ae70f1d585d9",
   "metadata": {},
   "source": [
    "#Q1. What are the characteristics of the tuples? Is tuple immutable?"
   ]
  },
  {
   "cell_type": "markdown",
   "id": "b2e7f04b-1732-421d-96eb-b422e6828819",
   "metadata": {
    "jupyter": {
     "source_hidden": true
    },
    "tags": []
   },
   "source": [
    "Tuples are an immutable data type, which means that once they have been generated, their elements cannot be changed.\n",
    "\n",
    "Since tuples are ordered sequences, each element has a specific order that will never change."
   ]
  },
  {
   "cell_type": "markdown",
   "id": "43f596ea-ceb8-47b6-89ea-274e35e9aaa5",
   "metadata": {},
   "source": [
    "Tuple is a group of items that are separated by commas. The indexing, nested objects, and repetitions of a tuple are somewhat like those of a list, however unlike a list, a tuple is immutable."
   ]
  },
  {
   "cell_type": "markdown",
   "id": "4c7876e3-a7ed-4939-bda3-1a9e6a24d648",
   "metadata": {},
   "source": [
    "#Q2. What are the two tuple methods in python? Give an example of each method. Give a reason why tuples have only two in-built methods as compared to Lists."
   ]
  },
  {
   "cell_type": "code",
   "execution_count": null,
   "id": "42175c6b-aa3d-406f-b3eb-b8ad183d65e1",
   "metadata": {},
   "outputs": [],
   "source": [
    "#Count() method\n",
    "##tuple.count(element)"
   ]
  },
  {
   "cell_type": "code",
   "execution_count": 18,
   "id": "32bee69e-7888-4f0a-b97f-df54e32e8311",
   "metadata": {},
   "outputs": [
    {
     "name": "stdout",
     "output_type": "stream",
     "text": [
      "here we are going to find 2: 2\n",
      "here we are going to find 3: 2\n",
      "here we are going to find python: 2\n",
      "here we are going to find my name : 2\n"
     ]
    }
   ],
   "source": [
    "Tuple1 = (0, 1, 2, 3, 2, 3, 1, 3,'python','asif','python','asif','asif')\n",
    "res = Tuple1.count(2)\n",
    "print('here we are going to find 2:', res)\n",
    "print('here we are going to find 3:',res)\n",
    "print('here we are going to find python:',res)\n",
    "print('here we are going to find my name :',res)\n"
   ]
  },
  {
   "cell_type": "code",
   "execution_count": 17,
   "id": "3273207e-51f6-4b34-8b7c-f53259a9672d",
   "metadata": {},
   "outputs": [],
   "source": [
    "#index()method  \n",
    "##tuple.index(element, start, end)\n"
   ]
  },
  {
   "cell_type": "code",
   "execution_count": 31,
   "id": "041d15ba-68fc-4add-86cc-22da7a41e155",
   "metadata": {},
   "outputs": [
    {
     "name": "stdout",
     "output_type": "stream",
     "text": [
      "First occurrence 3 is  2\n",
      "First occurrence of 3 after 4th index is: 5\n"
     ]
    }
   ],
   "source": [
    "Tuple = (0, 1, 3, 3, 2, 3, 1, 3,'python','asif')\n",
    "\n",
    "res = Tuple.index(3)\n",
    "print('First occurrence 3 is ', res)\n",
    "res = Tuple.index(3, 4)\n",
    "print('First occurrence of 3 after 4th index is:', res)"
   ]
  },
  {
   "cell_type": "raw",
   "id": "3ed3beac-ac6b-4a5f-b86f-c99988c5aef0",
   "metadata": {},
   "source": [
    "A tuple does not have many built-in methods because of immutability"
   ]
  },
  {
   "cell_type": "markdown",
   "id": "8fce1024-21ee-4cd8-b595-582f5a0803fd",
   "metadata": {},
   "source": [
    "Q3. Which collection datatypes in python do not allow duplicate items? Write a code using a set to remove\n",
    "duplicates from the given list."
   ]
  },
  {
   "cell_type": "markdown",
   "id": "5fd62bd5-cf45-4f69-9660-71550407baed",
   "metadata": {},
   "source": [
    "set data types in python do not allow duplicacy."
   ]
  },
  {
   "cell_type": "code",
   "execution_count": 10,
   "id": "06f58097-8b93-468a-a68f-a54645ba3bd9",
   "metadata": {},
   "outputs": [],
   "source": [
    "List = [1, 1, 1, 2, 1, 3, 1, 4, 2, 1, 2, 2, 2, 3, 2, 4, 3, 1, 3, 2, 3, 3, 3, 4, 4, 1, 4, 2, 4, 3, 4, 4]"
   ]
  },
  {
   "cell_type": "code",
   "execution_count": 17,
   "id": "0f0a5ffb-081d-4459-9243-6826dca695f8",
   "metadata": {},
   "outputs": [],
   "source": [
    "s1=set(List)             # here i have convert list into set"
   ]
  },
  {
   "cell_type": "code",
   "execution_count": 20,
   "id": "892329ca-88d5-41d0-b940-2fc6e7b6e988",
   "metadata": {},
   "outputs": [
    {
     "data": {
      "text/plain": [
       "{1, 2, 3, 4}"
      ]
     },
     "execution_count": 20,
     "metadata": {},
     "output_type": "execute_result"
    }
   ],
   "source": [
    "s1                       #here we have remove duplicacy "
   ]
  },
  {
   "cell_type": "code",
   "execution_count": 21,
   "id": "96a0d719-55da-46f4-a425-00457f0e0e0b",
   "metadata": {},
   "outputs": [
    {
     "data": {
      "text/plain": [
       "set"
      ]
     },
     "execution_count": 21,
     "metadata": {},
     "output_type": "execute_result"
    }
   ],
   "source": [
    "type(s1)"
   ]
  },
  {
   "cell_type": "markdown",
   "id": "4a7ac918-63a1-46e3-ad68-ed65f9f22428",
   "metadata": {},
   "source": [
    "Q4. Explain the difference between the union() and update() methods for a set. Give an example of\n",
    "each method."
   ]
  },
  {
   "cell_type": "code",
   "execution_count": 22,
   "id": "ef4b44a7-1ba7-4dcb-a235-68d3f68675f4",
   "metadata": {},
   "outputs": [],
   "source": [
    "#union method in set"
   ]
  },
  {
   "cell_type": "code",
   "execution_count": 48,
   "id": "a0968510-088e-4f13-982e-870eed3e748f",
   "metadata": {},
   "outputs": [
    {
     "name": "stdout",
     "output_type": "stream",
     "text": [
      "{'asif', 'cherry', 'apple', 'boss', 'microsoft', 'pwskills'}\n"
     ]
    }
   ],
   "source": [
    "x = {\"boss\",\"apple\", \"cherry\",'asif'}\n",
    "y = {\"pwskills\", \"microsoft\", \"asif\"}\n",
    "\n",
    "z = x.union(y)\n",
    "\n",
    "print(z)"
   ]
  },
  {
   "cell_type": "code",
   "execution_count": 47,
   "id": "5a5e5f06-b1e3-4b62-831c-e44faac66b1d",
   "metadata": {},
   "outputs": [
    {
     "name": "stdout",
     "output_type": "stream",
     "text": [
      "{'cherry', 'apple', 'banana', 'as', 'ab', 'bc'}\n"
     ]
    }
   ],
   "source": [
    "x = {\"apple\", \"banana\", \"cherry\"}\n",
    "x.update({'ab','bc',\"as\",'apple'})\n",
    "\n",
    "print(x)"
   ]
  },
  {
   "cell_type": "markdown",
   "id": "f43590c7-1673-480a-ad41-d536d1dbdf22",
   "metadata": {},
   "source": [
    "Q5. What is a dictionary? Give an example. Also, state whether a dictionary is ordered or unordered"
   ]
  },
  {
   "cell_type": "markdown",
   "id": "e9e4b83e-99e3-46ad-8b22-ca893a5ac4b0",
   "metadata": {},
   "source": [
    "Dictionaries are used to store data values in key:value pairs.\n",
    "\n",
    "A dictionary is a collection which is ordered*, changeable and do not allow duplicates."
   ]
  },
  {
   "cell_type": "code",
   "execution_count": 57,
   "id": "4746030f-9031-4b1c-97af-052b136475ed",
   "metadata": {},
   "outputs": [
    {
     "name": "stdout",
     "output_type": "stream",
     "text": [
      "{'pw': 'people', 'village': 'mzn', 'graduation ': 'bca'}\n"
     ]
    }
   ],
   "source": [
    "d= {\n",
    "  \"pw\": \"people\",\n",
    "  \"village\": \"mzn\",\n",
    "  \"graduation \": \"bca\"\n",
    "}\n",
    "print(d)"
   ]
  },
  {
   "cell_type": "markdown",
   "id": "a6152e21-8565-4548-bd52-c5b8b35b1eea",
   "metadata": {},
   "source": [
    "Python dictionaries were unordered but after Python 3.7 version Dictionaries are ordered"
   ]
  },
  {
   "cell_type": "markdown",
   "id": "446b5d19-7eee-4e4f-b626-272c4b4d962a",
   "metadata": {},
   "source": [
    "Q6. Can we create a nested dictionary? If so, please give an example by creating a simple one-level\n",
    "nested dictionary"
   ]
  },
  {
   "cell_type": "code",
   "execution_count": 67,
   "id": "b4aab411-611b-473c-a61c-f65980536809",
   "metadata": {},
   "outputs": [],
   "source": [
    "            d={'emp1': {'name': 'Bob', 'job': 'Mgr'},\n",
    "              'emp2': {'name': 'Kim', 'job': 'Dev'},\n",
    "              'emp3': {'name': 'Sam', 'job': 'Dev'}}\n"
   ]
  },
  {
   "cell_type": "code",
   "execution_count": 68,
   "id": "be391dd7-7740-4900-93a2-c68ecbc31001",
   "metadata": {},
   "outputs": [
    {
     "name": "stdout",
     "output_type": "stream",
     "text": [
      "{'emp1': {'name': 'Bob', 'job': 'Mgr'}, 'emp2': {'name': 'Kim', 'job': 'Dev'}, 'emp3': {'name': 'Sam', 'job': 'Dev'}}\n"
     ]
    }
   ],
   "source": [
    "print(d)"
   ]
  },
  {
   "cell_type": "markdown",
   "id": "0a439c3b-f705-491a-91e9-bdd194ab740d",
   "metadata": {},
   "source": [
    "Q7. Using setdefault() method, create key named topics in the given dictionary and also add the value of\n",
    "the key as this list['Python', 'Machine Learning’, 'Deep Learning']\n",
    "dict1 = {'language' : 'Python', 'course': 'Data Science Masters'}"
   ]
  },
  {
   "cell_type": "code",
   "execution_count": 82,
   "id": "92cd54ef-6949-48cd-a466-fd5df4fb6b5e",
   "metadata": {},
   "outputs": [
    {
     "name": "stdout",
     "output_type": "stream",
     "text": [
      "['python', 'Machine learning', 'Deep learning']\n"
     ]
    }
   ],
   "source": [
    "dict1 = {\n",
    "         \"language\": \"python\",\n",
    "          \"course\": \"Data science Masters\",\n",
    "           \"BCA\":  ['python','Machine learning','Deep learning']\n",
    "}\n",
    "\n",
    "x =dict1.setdefault(\"BCA\", \"Bronco\")\n",
    "\n",
    "\n",
    "print(x)"
   ]
  },
  {
   "cell_type": "markdown",
   "id": "2cf278f3-17c6-415c-8cfb-6738b9dd58f0",
   "metadata": {},
   "source": [
    "Q8. What are the three view objects in dictionaries? Use the three in-built methods in python to display\n",
    "these three view objects for the given dictionary."
   ]
  },
  {
   "cell_type": "markdown",
   "id": "5a8b48a5-74f9-4cb4-a45d-c46f1a75a510",
   "metadata": {},
   "source": [
    "The main view objects of dictionary in python are keys, values and items"
   ]
  },
  {
   "cell_type": "code",
   "execution_count": 83,
   "id": "0fba3121-bd85-476d-87b8-f13c130b43c3",
   "metadata": {},
   "outputs": [],
   "source": [
    "#keys"
   ]
  },
  {
   "cell_type": "code",
   "execution_count": 93,
   "id": "bd3be347-b315-41b7-b565-e6f8341e9848",
   "metadata": {},
   "outputs": [
    {
     "name": "stdout",
     "output_type": "stream",
     "text": [
      "dict_keys(['Sport', 'Teams'])\n"
     ]
    }
   ],
   "source": [
    "s = {'Sport': 'Cricket' , 'Teams': ['India', 'Australia', 'England', 'South Africa', 'Sri Lanka', 'New Zealand']}\n",
    "k = s.keys()\n",
    "print(k)"
   ]
  },
  {
   "cell_type": "code",
   "execution_count": 86,
   "id": "dc6b93b6-1dab-46e7-86b4-dcf30e694ee0",
   "metadata": {},
   "outputs": [],
   "source": [
    "#values"
   ]
  },
  {
   "cell_type": "code",
   "execution_count": 95,
   "id": "46e4a34c-13b0-4636-a901-e992e8be8a9b",
   "metadata": {},
   "outputs": [
    {
     "name": "stdout",
     "output_type": "stream",
     "text": [
      "dict_values(['cricket', ['india', 'australia', 'england', 'south africa', 'shri lanka', 'new Zeland']])\n"
     ]
    }
   ],
   "source": [
    "s1={'sport':'cricket','Team':['india','australia','england','south africa','shri lanka','new Zeland']}\n",
    "v = s1.values()\n",
    "print(v)"
   ]
  },
  {
   "cell_type": "code",
   "execution_count": 90,
   "id": "4146092b-64ba-482a-8045-d9bcf2e9a934",
   "metadata": {},
   "outputs": [],
   "source": [
    "#items"
   ]
  },
  {
   "cell_type": "code",
   "execution_count": 96,
   "id": "39bafbb5-b590-4788-98ee-e3c5480ac12a",
   "metadata": {},
   "outputs": [
    {
     "name": "stdout",
     "output_type": "stream",
     "text": [
      "dict_items([('sport', 'cricket'), ('Team', ['india', 'australia', 'england', 'south africa', 'shri lanka', 'new Zeland'])])\n"
     ]
    }
   ],
   "source": [
    "s2={'sport':'cricket','Team':['india','australia','england','south africa','shri lanka','new Zeland']}\n",
    "i = s2.items()\n",
    "print(i)"
   ]
  },
  {
   "cell_type": "code",
   "execution_count": null,
   "id": "a321d2c8-9e12-420b-8a48-e1fb574e16b7",
   "metadata": {},
   "outputs": [],
   "source": []
  }
 ],
 "metadata": {
  "kernelspec": {
   "display_name": "Python 3 (ipykernel)",
   "language": "python",
   "name": "python3"
  },
  "language_info": {
   "codemirror_mode": {
    "name": "ipython",
    "version": 3
   },
   "file_extension": ".py",
   "mimetype": "text/x-python",
   "name": "python",
   "nbconvert_exporter": "python",
   "pygments_lexer": "ipython3",
   "version": "3.10.6"
  },
  "toc-showcode": true
 },
 "nbformat": 4,
 "nbformat_minor": 5
}
