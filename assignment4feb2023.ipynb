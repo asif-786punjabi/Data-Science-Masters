{
 "cells": [
  {
   "cell_type": "code",
   "execution_count": 2,
   "id": "a36f99de-f1ae-4380-9716-a99efb1eff29",
   "metadata": {},
   "outputs": [],
   "source": [
    "                    #assignment of 04 feb 2023"
   ]
  },
  {
   "cell_type": "markdown",
   "id": "916e9bc0-d0cd-4682-af93-1d9f4cf31888",
   "metadata": {},
   "source": [
    "Q1. Create a python program to sort the given list of tuples based on integer value using a\n",
    "lambda function. "
   ]
  },
  {
   "cell_type": "code",
   "execution_count": 6,
   "id": "341d7419-3e51-4dfd-8f8c-4c09ecfaae9d",
   "metadata": {},
   "outputs": [
    {
     "name": "stdout",
     "output_type": "stream",
     "text": [
      "[('Sachin Tendulkar', 34357), ('Ricky Ponting', 27483), ('Jack Kallis', 25534), ('Virat Kohli', 24936)]\n"
     ]
    }
   ],
   "source": [
    "players = [('Sachin Tendulkar', 34357), ('Ricky Ponting', 27483), ('Jack Kallis', 25534), ('Virat Kohli', 24936)]\n",
    "\n",
    "sorted_players = sorted(players, key=lambda x: x[1], reverse=True)\n",
    "\n",
    "print(sorted_players)\n"
   ]
  },
  {
   "cell_type": "markdown",
   "id": "58b11859-1937-403d-a7f9-9374829e6903",
   "metadata": {},
   "source": [
    "Q2. Write a Python Program to find the squares of all the numbers in the given list of integers using\n",
    "lambda and map functions"
   ]
  },
  {
   "cell_type": "code",
   "execution_count": 15,
   "id": "50c22040-df6d-4414-aa50-9db273ad6cf1",
   "metadata": {},
   "outputs": [
    {
     "name": "stdout",
     "output_type": "stream",
     "text": [
      "[1, 4, 9, 16, 25, 36, 49, 64, 81, 100]\n"
     ]
    }
   ],
   "source": [
    "number=[1, 2, 3, 4, 5, 6, 7, 8, 9, 10]\n",
    "\n",
    "squares =list(map(lambda x: x**2, number))\n",
    "print(squares)"
   ]
  },
  {
   "cell_type": "raw",
   "id": "3e253f37-b733-4066-85a9-f48778f73dd2",
   "metadata": {},
   "source": [
    "Q3. Write a python program to convert the given list of integers into a tuple of strings. Use map and\n",
    "lambda functions\n",
    "\n",
    "\n",
    "Given String: [1, 2, 3, 4, 5, 6, 7, 8, 9, 10]"
   ]
  },
  {
   "cell_type": "code",
   "execution_count": 18,
   "id": "b29beb98-03ae-4eac-a0c3-4515f8c60c45",
   "metadata": {},
   "outputs": [
    {
     "name": "stdout",
     "output_type": "stream",
     "text": [
      "('1', '2', '3', '4', '5', '6', '7', '8', '9', '10')\n"
     ]
    }
   ],
   "source": [
    "nums = [1, 2, 3, 4, 5, 6, 7, 8, 9, 10]\n",
    "\n",
    "str_nums = list(map(lambda x: str(x), nums))\n",
    "\n",
    "tuple_nums = tuple(str_nums)\n",
    "\n",
    "print(tuple_nums)\n"
   ]
  },
  {
   "cell_type": "raw",
   "id": "c0f8f3d7-be8e-4113-ad70-2e7eefbc8e2d",
   "metadata": {},
   "source": [
    "Q4.  Write a python program using reduce function to compute the product of a list containing numbers\n",
    "from 1 to 25."
   ]
  },
  {
   "cell_type": "code",
   "execution_count": 3,
   "id": "7f77a1a3-e6e2-4bb0-98f2-1141b33b6423",
   "metadata": {},
   "outputs": [
    {
     "name": "stdout",
     "output_type": "stream",
     "text": [
      "The product of the list is: 15511210043330985984000000\n"
     ]
    }
   ],
   "source": [
    "import functools\n",
    "num_list = list(range(1, 26))\n",
    "\n",
    "product = functools.reduce(lambda x, y: x*y, num_list)\n",
    "print(\"The product of the list is:\", product)\n"
   ]
  },
  {
   "cell_type": "raw",
   "id": "d671f20f-93ca-4827-9865-65cb0a7e1f7b",
   "metadata": {},
   "source": [
    "Q5. Write a python program to filter the numbers in a given list that are divisible by 2 and 3 using the\n",
    "filter function."
   ]
  },
  {
   "cell_type": "code",
   "execution_count": 7,
   "id": "b0ba7203-12a5-4c59-bcac-4e73392cb2e5",
   "metadata": {},
   "outputs": [
    {
     "name": "stdout",
     "output_type": "stream",
     "text": [
      "The numbers divisible by 2 and 3 are: [6, 60, 90, 120]\n"
     ]
    }
   ],
   "source": [
    "l1 =[2, 3, 6, 9, 27, 60, 90, 120, 55, 46]\n",
    "\n",
    "result_list = list(filter(lambda x: x % 2 == 0 and x % 3 == 0, l1))\n",
    "\n",
    "print(\"The numbers divisible by 2 and 3 are:\", result_list)\n"
   ]
  },
  {
   "cell_type": "raw",
   "id": "7a7673af-466e-470b-bb44-66598612dd2f",
   "metadata": {},
   "source": [
    "Q6. Write a python program to find palindromes in the given list of strings using lambda and filter\n",
    "function.\n",
    "\n",
    "\n",
    "['python', 'php', 'aba', 'radar', 'level']"
   ]
  },
  {
   "cell_type": "code",
   "execution_count": 8,
   "id": "ea892db9-bc9a-4245-8235-036aa5972da4",
   "metadata": {},
   "outputs": [
    {
     "name": "stdout",
     "output_type": "stream",
     "text": [
      "The palindrome strings in the list are: ['deified', 'pop', 'level', 'radar']\n"
     ]
    }
   ],
   "source": [
    "# define the list of strings\n",
    "str_list =['python', 'php', 'aba', 'radar', 'level']\n",
    "\n",
    "# use filter() and lambda to find palindromes\n",
    "palindrome_list = list(filter(lambda x: x == x[::-1], str_list))\n",
    "\n",
    "# print the palindrome list\n",
    "print(\"The palindrome strings in the list are:\", palindrome_list)\n"
   ]
  },
  {
   "cell_type": "code",
   "execution_count": null,
   "id": "ba095ee0-06a1-4b81-a46e-8e06234df2ea",
   "metadata": {},
   "outputs": [],
   "source": []
  }
 ],
 "metadata": {
  "kernelspec": {
   "display_name": "Python 3 (ipykernel)",
   "language": "python",
   "name": "python3"
  },
  "language_info": {
   "codemirror_mode": {
    "name": "ipython",
    "version": 3
   },
   "file_extension": ".py",
   "mimetype": "text/x-python",
   "name": "python",
   "nbconvert_exporter": "python",
   "pygments_lexer": "ipython3",
   "version": "3.10.6"
  }
 },
 "nbformat": 4,
 "nbformat_minor": 5
}
