{
 "cells": [
  {
   "cell_type": "markdown",
   "id": "ba3d0ce9-ba76-4e1a-b606-329c7b46c1b2",
   "metadata": {},
   "source": [
    "                         assignment of 06 feb 2023"
   ]
  },
  {
   "cell_type": "markdown",
   "id": "0d50fc63-aa04-46aa-a19a-036ee7dc98b3",
   "metadata": {},
   "source": [
    "Q1. Create a function which will take a list as an argument and return the product of all the numbers\n",
    "after creating a flat list.\n",
    "\n",
    "Use the below-given list as an argument for your function"
   ]
  },
  {
   "cell_type": "code",
   "execution_count": 27,
   "id": "bdfcf325-0945-4d7e-9b9a-8d56c36d9f44",
   "metadata": {},
   "outputs": [
    {
     "name": "stdout",
     "output_type": "stream",
     "text": [
      "689118639831180913138973540352000\n"
     ]
    }
   ],
   "source": [
    "def my_function(lst):\n",
    "    flat_list = []\n",
    "\n",
    "    def flatten(l):\n",
    "        for item in l:\n",
    "            if type(item) == int:\n",
    "                flat_list.append(item)\n",
    "            elif type(item) == float:\n",
    "                flat_list.append(item)\n",
    "            elif type(item) == tuple:\n",
    "                flatten(item)\n",
    "            elif type(item) == list:\n",
    "                flatten(item)\n",
    "            elif type(item) == dict:\n",
    "                for key, value in item.items():\n",
    "                    if type(key) in [int, float]:\n",
    "                        flat_list.append(key)\n",
    "                    if type(value) in [int, float]:\n",
    "                        flat_list.append(value)\n",
    "                    elif type(value) in [list, tuple]:\n",
    "                        flatten(value)\n",
    "\n",
    "    flatten(lst)\n",
    "    product = 1\n",
    "    for item in flat_list:\n",
    "        product *= item\n",
    "    return product\n",
    "\n",
    "list1 = [1,2,3,4, [44,55,66, True], False, (34,56,78,89,34), {1,2,3,3,2,1}, {1:34, \"key2\": [55, 67, 78, 89], 4: (45, 22, 61, 34)}, [56, 'data science'], 'Machine Learning']\n",
    "print(my_function(list1))"
   ]
  },
  {
   "cell_type": "markdown",
   "id": "fb8f887e-70a9-4d8b-a6b9-8499faa84ca2",
   "metadata": {},
   "source": [
    "Q2. Write a python program for encrypting a message sent to you by your friend. The logic of encryption\n",
    "should be such that, for a the output should be z. For b, the output should be y. For c, the output should\n",
    "be x respectively. Also, the whitespace should be replaced with a dollar sign. Keep the punctuation\n",
    "marks unchanged."
   ]
  },
  {
   "cell_type": "code",
   "execution_count": 54,
   "id": "b326da05-3c56-454d-a303-43db202ce757",
   "metadata": {},
   "outputs": [
    {
     "name": "stdout",
     "output_type": "stream",
     "text": [
      "r$dzmg$gl$yvxlnv$z$wzgz$hxrvmgrhg.\n"
     ]
    }
   ],
   "source": [
    "def encrypt_message(message):\n",
    "    encrypted_message = \"\"\n",
    "    for char in message.lower():\n",
    "        if char == \" \":\n",
    "            encrypted_message += \"$\"\n",
    "        elif char.isalpha():\n",
    "            encrypted_message += chr(219 - ord(char))\n",
    "        else:\n",
    "            encrypted_message += char\n",
    "    return encrypted_message.lower()\n",
    "input_sentence = \"i want to become a Data Scientist.\"\n",
    "encrypted_sentence = encrypt_message(input_sentence)\n",
    "print(encrypted_sentence)"
   ]
  },
  {
   "cell_type": "code",
   "execution_count": null,
   "id": "d9e0e066-dc90-459d-b3c9-81d94c20e843",
   "metadata": {},
   "outputs": [],
   "source": []
  }
 ],
 "metadata": {
  "kernelspec": {
   "display_name": "Python 3 (ipykernel)",
   "language": "python",
   "name": "python3"
  },
  "language_info": {
   "codemirror_mode": {
    "name": "ipython",
    "version": 3
   },
   "file_extension": ".py",
   "mimetype": "text/x-python",
   "name": "python",
   "nbconvert_exporter": "python",
   "pygments_lexer": "ipython3",
   "version": "3.10.8"
  },
  "toc-showcode": false
 },
 "nbformat": 4,
 "nbformat_minor": 5
}
